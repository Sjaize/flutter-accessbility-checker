{
 "cells": [
  {
   "cell_type": "code",
   "execution_count": null,
   "metadata": {
    "vscode": {
     "languageId": "plaintext"
    }
   },
   "outputs": [],
   "source": [
    "# === 셀 1 패키지 설치 ===\n",
    "# 노트북에서 바로 실행\n",
    "%pip -q install pandas numpy scikit-learn matplotlib sentence-transformers rapidfuzz orjson"
   ]
  },
  {
   "cell_type": "code",
   "execution_count": null,
   "metadata": {
    "vscode": {
     "languageId": "plaintext"
    }
   },
   "outputs": [],
   "source": [
    "# === 셀 2 임포트 및 기본 설정 ===\n",
    "import os\n",
    "import re\n",
    "import json\n",
    "import orjson\n",
    "import numpy as np\n",
    "import pandas as pd\n",
    "from ast import literal_eval\n",
    "from collections import Counter, defaultdict\n",
    "\n",
    "from sklearn.feature_extraction.text import CountVectorizer\n",
    "from sklearn.cluster import KMeans\n",
    "from sklearn.metrics import pairwise_distances\n",
    "from sklearn.preprocessing import MinMaxScaler\n",
    "\n",
    "import matplotlib.pyplot as plt\n",
    "\n",
    "from sentence_transformers import SentenceTransformer, util\n",
    "\n",
    "pd.set_option(\"display.max_colwidth\", 200)\n",
    "RNG = np.random.default_rng(42)\n",
    "\n",
    "# 경로\n",
    "ICON_CSV = \"./output_MMT_icon.csv\"\n",
    "WIDGET_CSV = \"widget_captions.csv\"\n",
    "\n",
    "# 모델\n",
    "EMB_MODEL_NAME = \"all-MiniLM-L6-v2\"\n",
    "emb_model = SentenceTransformer(EMB_MODEL_NAME)\n",
    "\n",
    "# 함수 유틸\n",
    "def norm_text(s: str) -> str:\n",
    "    if pd.isna(s):\n",
    "        return \"\"\n",
    "    s = str(s)\n",
    "    s = s.replace(\"\\n\", \" \").strip().lower()\n",
    "    s = re.sub(r\"\\s+\", \" \", s)\n",
    "    return s\n",
    "\n",
    "def split_pipe(s: str):\n",
    "    s = norm_text(s)\n",
    "    if not s:\n",
    "        return []\n",
    "    return [t.strip() for t in s.split(\"|\") if t.strip()]\n",
    "\n",
    "def safe_json_loads(s: str):\n",
    "    if pd.isna(s) or not str(s).strip():\n",
    "        return {}\n",
    "    s = str(s)\n",
    "    # 기본 json 혹은 json과 유사한 문자열 케이스 모두 시도\n",
    "    try:\n",
    "        return json.loads(s)\n",
    "    except Exception:\n",
    "        try:\n",
    "            return orjson.loads(s)\n",
    "        except Exception:\n",
    "            # 내부 쌍따옴표 이스케이프 이슈 보정\n",
    "            try:\n",
    "                s2 = s.replace('\"\"', '\"')\n",
    "                return json.loads(s2)\n",
    "            except Exception:\n",
    "                return {}\n"
   ]
  },
  {
   "cell_type": "code",
   "execution_count": null,
   "metadata": {
    "vscode": {
     "languageId": "plaintext"
    }
   },
   "outputs": [],
   "source": [
    "# === 셀 3 데이터 로드 및 전처리 ===\n",
    "# output_MMT_icon.csv 포맷 가정\n",
    "df_icon = pd.read_csv(ICON_CSV)\n",
    "# widget_captions.csv 포맷 가정\n",
    "df_widget = pd.read_csv(WIDGET_CSV)\n",
    "\n",
    "# 핵심 컬럼 정리\n",
    "need_cols_icon = [\"screenId\", \"icon_path\", \"bounds\", \"reference_captions\", \"icon_context\", \"generated_caption\"]\n",
    "for c in need_cols_icon:\n",
    "    if c not in df_icon.columns:\n",
    "        raise ValueError(f\"output_MMT_icon.csv에 {c} 컬럼이 없음\")\n",
    "\n",
    "need_cols_widget = [\"datasetId\", \"screenId\", \"nodeId\", \"captions\"]\n",
    "for c in need_cols_widget:\n",
    "    if c not in df_widget.columns:\n",
    "        raise ValueError(f\"widget_captions.csv에 {c} 컬럼이 없음\")\n",
    "\n",
    "# 정규화\n",
    "df_icon[\"generated_caption\"] = df_icon[\"generated_caption\"].map(norm_text)\n",
    "df_icon[\"reference_list\"] = df_icon[\"reference_captions\"].map(split_pipe)\n",
    "df_icon[\"bounds\"] = df_icon[\"bounds\"].astype(str)\n",
    "\n",
    "# icon_context 파싱\n",
    "df_icon[\"icon_context_json\"] = df_icon[\"icon_context\"].apply(safe_json_loads)\n",
    "def extract_ctx(d):\n",
    "    if not isinstance(d, dict):\n",
    "        return pd.Series({\"class_name\": None, \"resource_id\": None, \"activity\": None})\n",
    "    ui = d.get(\"UI element info\", {}) or d.get(\"ui element info\", {})\n",
    "    return pd.Series({\n",
    "        \"class_name\": ui.get(\"class_name\"),\n",
    "        \"resource_id\": ui.get(\"resource_id\"),\n",
    "        \"activity\": d.get(\"app activity name\") or d.get(\"activity\")\n",
    "    })\n",
    "ctx = df_icon[\"icon_context_json\"].apply(extract_ctx)\n",
    "df_icon = pd.concat([df_icon, ctx], axis=1)\n",
    "\n",
    "# widget 캡션 파싱\n",
    "df_widget[\"captions_list\"] = df_widget[\"captions\"].map(split_pipe)\n",
    "\n",
    "print(\"icon rows\", len(df_icon))\n",
    "print(\"widget rows\", len(df_widget))\n",
    "df_icon.head(3)\n"
   ]
  },
  {
   "cell_type": "code",
   "execution_count": null,
   "metadata": {
    "vscode": {
     "languageId": "plaintext"
    }
   },
   "outputs": [],
   "source": [
    "# === 셀 4 규칙 추출 빈도 분석 ===\n",
    "# generated_caption 상위 N 집계\n",
    "cap_counts = df_icon[\"generated_caption\"].value_counts().reset_index()\n",
    "cap_counts.columns = [\"caption\", \"count\"]\n",
    "top_k = 50\n",
    "top_captions = cap_counts.head(top_k)\n",
    "top_captions.head(10)\n"
   ]
  },
  {
   "cell_type": "code",
   "execution_count": null,
   "metadata": {
    "vscode": {
     "languageId": "plaintext"
    }
   },
   "outputs": [],
   "source": [
    "# === 셀 5 n-gram 패턴 추출 ===\n",
    "# 자주 쓰이는 bigram trigram으로 규칙 후보 만들기\n",
    "texts = df_icon[\"generated_caption\"].fillna(\"\").tolist()\n",
    "vectorizer = CountVectorizer(ngram_range=(1,3), min_df=5)  # 5회 이상 등장\n",
    "X = vectorizer.fit_transform(texts)\n",
    "vocab = np.array(vectorizer.get_feature_names_out())\n",
    "freq = np.asarray(X.sum(axis=0)).ravel()\n",
    "ng_df = pd.DataFrame({\"ngram\": vocab, \"freq\": freq}).sort_values(\"freq\", ascending=False)\n",
    "ng_df.head(20)\n"
   ]
  },
  {
   "cell_type": "code",
   "execution_count": null,
   "metadata": {
    "vscode": {
     "languageId": "plaintext"
    }
   },
   "outputs": [],
   "source": [
    "# === 셀 6 카테고리 규칙 분류 샘플 ===\n",
    "# 간단한 정규식 카테고리 분류로 대표 규칙 라벨링\n",
    "cat_rules = {\n",
    "    \"navigation\": re.compile(r\"\\b(back|go back|previous|home|menu|close|exit)\\b\"),\n",
    "    \"search\": re.compile(r\"\\b(search|find|look for)\\b\"),\n",
    "    \"action\": re.compile(r\"\\b(open|toggle|share|edit|delete|save|apply|submit|send)\\b\"),\n",
    "    \"settings\": re.compile(r\"\\b(setting|preferences|option)\\b\"),\n",
    "    \"media\": re.compile(r\"\\b(play|pause|stop|record|camera|gallery)\\b\"),\n",
    "}\n",
    "\n",
    "def label_category(caption: str):\n",
    "    for k, pat in cat_rules.items():\n",
    "        if pat.search(caption):\n",
    "            return k\n",
    "    return \"other\"\n",
    "\n",
    "df_icon[\"rule_category\"] = df_icon[\"generated_caption\"].map(label_category)\n",
    "cat_stats = df_icon[\"rule_category\"].value_counts().reset_index()\n",
    "cat_stats.columns = [\"category\", \"count\"]\n",
    "cat_stats\n"
   ]
  },
  {
   "cell_type": "code",
   "execution_count": null,
   "metadata": {
    "vscode": {
     "languageId": "plaintext"
    }
   },
   "outputs": [],
   "source": [
    "# === 셀 7 BERT 임베딩 기반 유사도 계산 ===\n",
    "# reference_captions 대비 generated_caption 최대 유사도\n",
    "def bert_sim_max(gen: str, refs: list[str]) -> float:\n",
    "    gen = norm_text(gen)\n",
    "    refs = [norm_text(r) for r in refs if r]\n",
    "    if not gen or not refs:\n",
    "        return np.nan\n",
    "    e_gen = emb_model.encode(gen, normalize_embeddings=True)\n",
    "    e_ref = emb_model.encode(refs, normalize_embeddings=True)\n",
    "    sim = util.cos_sim(e_gen, e_ref).cpu().numpy().ravel()\n",
    "    return float(sim.max()) if len(sim) else np.nan\n",
    "\n",
    "df_icon[\"sim_ref_max\"] = df_icon.apply(lambda r: bert_sim_max(r[\"generated_caption\"], r[\"reference_list\"]), axis=1)\n",
    "\n",
    "# 위젯 캡션과 화면 단위로 매칭해 최대 유사도\n",
    "# 화면별 모든 widget captions를 묶어서 gen과 비교\n",
    "widget_by_screen = df_widget.groupby(\"screenId\")[\"captions_list\"].apply(list)\n",
    "# 리스트의 리스트를 펼쳐서 한 화면의 모든 후보 문자열로\n",
    "widget_by_screen = widget_by_screen.map(lambda lst: [c for sub in lst for c in sub])\n",
    "\n",
    "def bert_sim_widget(gen: str, screen_id) -> float:\n",
    "    gen = norm_text(gen)\n",
    "    if not gen or screen_id not in widget_by_screen:\n",
    "        return np.nan\n",
    "    refs = [norm_text(x) for x in widget_by_screen[screen_id] if x]\n",
    "    if not refs:\n",
    "        return np.nan\n",
    "    e_gen = emb_model.encode(gen, normalize_embeddings=True)\n",
    "    # 메모리 절약을 위해 배치 처리\n",
    "    sims = []\n",
    "    batch = 64\n",
    "    for i in range(0, len(refs), batch):\n",
    "        e_ref = emb_model.encode(refs[i:i+batch], normalize_embeddings=True)\n",
    "        s = util.cos_sim(e_gen, e_ref).cpu().numpy().ravel()\n",
    "        sims.append(s.max())\n",
    "    return float(np.max(sims)) if sims else np.nan\n",
    "\n",
    "df_icon[\"sim_widget_max\"] = df_icon.apply(lambda r: bert_sim_widget(r[\"generated_caption\"], r[\"screenId\"]), axis=1)\n",
    "\n",
    "df_icon[[\"generated_caption\", \"reference_list\", \"sim_ref_max\", \"sim_widget_max\"]].head(10)\n"
   ]
  },
  {
   "cell_type": "code",
   "execution_count": null,
   "metadata": {
    "vscode": {
     "languageId": "plaintext"
    }
   },
   "outputs": [],
   "source": [
    "# === 셀 8 규칙 기반 유효성 점수 ===\n",
    "# 길이 점수 2~7 단어면 최고\n",
    "def length_score(caption: str):\n",
    "    w = norm_text(caption).split()\n",
    "    n = len(w)\n",
    "    if n == 0:\n",
    "        return 0.0\n",
    "    if 2 <= n <= 7:\n",
    "        return 1.0\n",
    "    if n == 1:\n",
    "        return 0.4\n",
    "    return max(0.4, 1.0 - (n - 7)*0.05)\n",
    "\n",
    "# 기능성 키워드 점수\n",
    "FUNC_WORDS = set(\"\"\"\n",
    "back previous search find open close menu settings save delete edit share send apply submit next previous play pause camera gallery\n",
    "\"\"\".split())\n",
    "\n",
    "def functional_score(caption: str):\n",
    "    w = set(norm_text(caption).split())\n",
    "    return 1.0 if len(FUNC_WORDS & w) > 0 else 0.0\n",
    "\n",
    "# 동일 화면 내 중복 페널티 유니크 비율\n",
    "dup_ratio = df_icon.groupby(\"screenId\")[\"generated_caption\"].apply(\n",
    "    lambda s: 1.0 - (s.nunique() / max(1, len(s)))\n",
    ")\n",
    "# 화면별 동일 캡션 반복이 많으면 점수 내려간다\n",
    "def uniqueness_score(screen_id):\n",
    "    r = dup_ratio.get(screen_id, 0.0)\n",
    "    return float(max(0.0, 1.0 - r))\n",
    "\n",
    "df_icon[\"len_score\"] = df_icon[\"generated_caption\"].map(length_score)\n",
    "df_icon[\"func_score\"] = df_icon[\"generated_caption\"].map(functional_score)\n",
    "df_icon[\"uniq_score\"] = df_icon[\"screenId\"].map(uniqueness_score)\n",
    "\n",
    "# 최종 유효성 스코어 가중합\n",
    "# 시맨틱 유사도 0.6 길이 0.15 기능성 0.15 유니크 0.1\n",
    "sim_ref = df_icon[\"sim_ref_max\"].fillna(0.0)\n",
    "sim_widget = df_icon[\"sim_widget_max\"].fillna(0.0)\n",
    "# 참고 기준이 두 가지면 보수적으로 최대값 사용\n",
    "sim_base = np.maximum(sim_ref, sim_widget)\n",
    "\n",
    "df_icon[\"validity_score\"] = (\n",
    "    0.60 * sim_base +\n",
    "    0.15 * df_icon[\"len_score\"] +\n",
    "    0.15 * df_icon[\"func_score\"] +\n",
    "    0.10 * df_icon[\"uniq_score\"]\n",
    ")\n",
    "\n",
    "df_icon[[\"generated_caption\", \"sim_ref_max\", \"sim_widget_max\", \"len_score\", \"func_score\", \"uniq_score\", \"validity_score\"]].head(10)\n"
   ]
  },
  {
   "cell_type": "code",
   "execution_count": null,
   "metadata": {
    "vscode": {
     "languageId": "plaintext"
    }
   },
   "outputs": [],
   "source": [
    "# === 셀 9 대표 규칙 리포트 ===\n",
    "# 1 상위 캡션\n",
    "print(\"상위 빈도 캡션\")\n",
    "display(top_captions.head(20))\n",
    "\n",
    "# 2 상위 n-gram\n",
    "print(\"상위 n-gram\")\n",
    "display(ng_df.head(20))\n",
    "\n",
    "# 3 카테고리 분포\n",
    "print(\"카테고리 분포\")\n",
    "display(cat_stats)\n",
    "\n",
    "# 4 클래스 이름별 대표 캡션 및 평균 유효성\n",
    "by_class = (\n",
    "    df_icon.groupby([\"class_name\"])  # None 포함 가능\n",
    "    .agg(\n",
    "        n=(\"generated_caption\", \"count\"),\n",
    "        uniq_caps=(\"generated_caption\", \"nunique\"),\n",
    "        mean_validity=(\"validity_score\", \"mean\")\n",
    "    )\n",
    "    .reset_index()\n",
    "    .sort_values(\"n\", ascending=False)\n",
    ")\n",
    "print(\"UI class_name 기준 요약\")\n",
    "display(by_class.head(20))\n",
    "\n",
    "# 5 유효성 분포\n",
    "bins = [0, 0.4, 0.6, 0.8, 1.0]\n",
    "labels = [\"low\", \"mid\", \"good\", \"excellent\"]\n",
    "df_icon[\"validity_band\"] = pd.cut(df_icon[\"validity_score\"], bins=bins, labels=labels, include_lowest=True)\n",
    "band_counts = df_icon[\"validity_band\"].value_counts().reindex(labels).fillna(0).astype(int)\n",
    "print(\"유효성 밴드 분포\")\n",
    "display(band_counts.to_frame(name=\"count\").T)\n",
    "\n",
    "# 6 화면 단위 다양성\n",
    "diversity = df_icon.groupby(\"screenId\")[\"generated_caption\"].agg(lambda s: s.nunique()/max(1,len(s))).rename(\"diversity_ratio\").reset_index()\n",
    "print(\"화면 단위 캡션 다양성 상하위 예시\")\n",
    "display(diversity.sort_values(\"diversity_ratio\", ascending=True).head(10))\n",
    "display(diversity.sort_values(\"diversity_ratio\", ascending=False).head(10))\n"
   ]
  },
  {
   "cell_type": "code",
   "execution_count": null,
   "metadata": {
    "vscode": {
     "languageId": "plaintext"
    }
   },
   "outputs": [],
   "source": [
    "# === 셀 10 간단 시각화 ===\n",
    "# 유효성 분포 히스토그램\n",
    "plt.figure(figsize=(6,4))\n",
    "plt.hist(df_icon[\"validity_score\"].dropna(), bins=20)\n",
    "plt.title(\"Validity score distribution\")\n",
    "plt.xlabel(\"score\")\n",
    "plt.ylabel(\"count\")\n",
    "plt.show()\n",
    "\n",
    "# 카테고리별 평균 유효성\n",
    "cat_mean = df_icon.groupby(\"rule_category\")[\"validity_score\"].mean().sort_values(ascending=False)\n",
    "plt.figure(figsize=(6,4))\n",
    "cat_mean.plot(kind=\"bar\")\n",
    "plt.title(\"Mean validity by rule category\")\n",
    "plt.xlabel(\"category\")\n",
    "plt.ylabel(\"mean validity\")\n",
    "plt.show()\n"
   ]
  }
 ],
 "metadata": {
  "language_info": {
   "name": "python"
  }
 },
 "nbformat": 4,
 "nbformat_minor": 2
}
